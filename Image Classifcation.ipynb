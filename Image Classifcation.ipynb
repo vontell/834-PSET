{
 "cells": [
  {
   "cell_type": "code",
   "execution_count": 1,
   "metadata": {},
   "outputs": [],
   "source": [
    "%load_ext autoreload\n",
    "%autoreload 2\n",
    "import numpy as np\n",
    "from utils import *\n",
    "import cv2\n",
    "import matplotlib.pyplot as plt\n",
    "%matplotlib inline"
   ]
  },
  {
   "cell_type": "markdown",
   "metadata": {},
   "source": [
    "# Image Classification with Unstructured Environments\n",
    "\n",
    "1. [Introduction and Motivation](#1.-Introduction-and-Motivation)\n",
    "2. [Representing Images](#2.-Representing-Images)\n",
    "  1. Something from previous methods?\n",
    "  2. Patching and SIFT descriptors\n",
    "3. Building a vocabulary\n",
    "  1. Obtain training data\n",
    "  2. Get SIFT feature vectors for all training images\n",
    "  3. K-means clustering to get term vectors\n",
    "4. Classifying images\n",
    "  1. Load some test data, and test it\n",
    "5. Improvements to features\n",
    "  1. Interest point operators\n",
    "  2. Saliency\n",
    "  3. Hue\n",
    "6. Conclusion\n",
    "\n",
    "## 1. Introduction and Motivation\n",
    "\n",
    "In this mini problem set, you will how to apply image classification to marine environments. Unlike typical object recognition tasks that recognize objects that have limited variability in form, content, and shape, marine image classification requires a system that can handle incredible variability in object form. Take the following images of sand and seaweed, for example:\n",
    "\n",
    "<img src=\"header.png\" width=\"500\" height=\"500\"/>\n",
    "\n",
    "These images include a tangle of objects, variable colors, occlusion, and other issues that make typical object recognition inaccurate. Throughout this mini problem set, you will learn how to build better models and methods for dealing with unstructured environments such as those found in marine habitats. The goal is to create a system with a higher accuracy in recognizing parts of a marine habitat, which would come in handy during AUV surveying and planning."
   ]
  },
  {
   "cell_type": "markdown",
   "metadata": {},
   "source": [
    "## 2. Representing Images\n",
    "\n"
   ]
  },
  {
   "cell_type": "code",
   "execution_count": null,
   "metadata": {},
   "outputs": [],
   "source": [
    "def load_images():\n",
    "    # Staff-defined methodx\n",
    "    pass\n",
    "\n",
    "train_images, test_images = load_images()"
   ]
  },
  {
   "cell_type": "code",
   "execution_count": null,
   "metadata": {},
   "outputs": [],
   "source": [
    "def get_SIFT():\n",
    "    # Staff + student method\n",
    "    # Patch size tuning?\n",
    "    pass"
   ]
  },
  {
   "cell_type": "markdown",
   "metadata": {},
   "source": [
    "## Intro something"
   ]
  },
  {
   "cell_type": "code",
   "execution_count": null,
   "metadata": {},
   "outputs": [],
   "source": [
    "def test_example():\n",
    "    # call test from utils here\n",
    "    check_example(True)\n",
    "    test_ok()\n",
    "    \n",
    "test_example()"
   ]
  },
  {
   "cell_type": "code",
   "execution_count": null,
   "metadata": {},
   "outputs": [],
   "source": [
    "def they_need_to_implement(something):\n",
    "    \n",
    "    # YOUR CODE HERE\n",
    "    raise NotImplementedError\n",
    "    return True"
   ]
  },
  {
   "cell_type": "markdown",
   "metadata": {},
   "source": [
    "<div class=\"alert alert-info\">\n",
    "This is the type of box you put a question in. For instance: Please answer in the following cell.\n",
    "</div>"
   ]
  },
  {
   "cell_type": "markdown",
   "metadata": {},
   "source": [
    "INSERT ANSWER HERE"
   ]
  },
  {
   "cell_type": "code",
   "execution_count": null,
   "metadata": {},
   "outputs": [],
   "source": [
    "#they_need_to_implement(None)"
   ]
  },
  {
   "cell_type": "code",
   "execution_count": null,
   "metadata": {},
   "outputs": [],
   "source": []
  }
 ],
 "metadata": {
  "kernelspec": {
   "display_name": "Python 3",
   "language": "python",
   "name": "python3"
  },
  "language_info": {
   "codemirror_mode": {
    "name": "ipython",
    "version": 3
   },
   "file_extension": ".py",
   "mimetype": "text/x-python",
   "name": "python",
   "nbconvert_exporter": "python",
   "pygments_lexer": "ipython3",
   "version": "3.6.3"
  }
 },
 "nbformat": 4,
 "nbformat_minor": 2
}
