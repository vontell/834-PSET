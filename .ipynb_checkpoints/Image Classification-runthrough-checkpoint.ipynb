{
 "cells": [
  {
   "cell_type": "code",
   "execution_count": 70,
   "metadata": {},
   "outputs": [
    {
     "name": "stdout",
     "output_type": "stream",
     "text": [
      "The autoreload extension is already loaded. To reload it, use:\n",
      "  %reload_ext autoreload\n"
     ]
    }
   ],
   "source": [
    "%load_ext autoreload\n",
    "%autoreload 2\n",
    "import numpy as np\n",
    "from utils import *\n",
    "import cv2\n",
    "import matplotlib.pyplot as plt\n",
    "from sklearn.cluster import KMeans\n",
    "\n",
    "%matplotlib inline"
   ]
  },
  {
   "cell_type": "markdown",
   "metadata": {},
   "source": [
    "# Image Classification with Unstructured Environments\n",
    "\n",
    "1. [Introduction and Motivation](#1.-Introduction-and-Motivation)\n",
    "2. [General Techniques](#2.-General-Techniques)\n",
    "3. Building a vocabulary\n",
    "  1. Obtain training data\n",
    "  2. Get SIFT feature vectors for all training images\n",
    "  3. K-means clustering to get term vectors\n",
    "4. Classifying images\n",
    "  1. Load some test data, and test it\n",
    "5. [Improving Feature Detection](#5.-Improving-Feature-Detection)\n",
    "  2. [Saliency](#a.-Saliency)\n",
    "  3. [Hue Information](#b.-Hue-Information)\n",
    "6. Conclusion\n",
    "\n",
    "## 1. Introduction and Motivation\n",
    "\n",
    "In this mini problem set, you will how to apply image classification to marine environments. Unlike typical object recognition tasks that recognize objects that have limited variability in form, content, and shape, marine image classification requires a system that can handle incredible variability in object form. Take the following images of sand and seaweed, for example:\n",
    "\n",
    "<img src=\"header.png\" width=\"500\" height=\"500\"/>\n",
    "\n",
    "These images include a tangle of objects, variable colors, occlusion, and other issues that make typical object recognition inaccurate. Throughout this mini problem set, you will learn how to build better models and methods for dealing with unstructured environments such as those found in marine habitats. The goal is to create a system with a higher accuracy in recognizing parts of a marine habitat, which would come in handy during AUV surveying and planning."
   ]
  },
  {
   "cell_type": "markdown",
   "metadata": {},
   "source": [
    "## 2. General Techniques\n",
    "\n",
    "Before diving into applying the new techniques learned from lecture, let's explore state-of-the-art general techniques in image recognition. A prime example of this is provided from Google's Vision API. Visit their website at [https://cloud.google.com/vision/](https://cloud.google.com/vision/), and take a look at the services provided. Let's take a look what happens when we attempt to classify two different images.\n",
    "\n",
    "First, save the image below of a horse to your computer, and upload it to the site above in the section labeled \"Try the API\". Note the words that it finds that are representative of the objects in that image.\n",
    "\n",
    "<img src=\"horse.jpg\" width=\"200\" height=\"200\"/>\n",
    "\n",
    "Now, try doing the same thing with the below image of a seafloor. Once again, note the words that it decides are representative of the objects in the image.\n",
    "\n",
    "<img src=\"sandy_image.png\" width=\"200\" height=\"200\"/>\n",
    "\n",
    "Given these results, answer the following questions:\n",
    "\n",
    "**a) What words does it find for each of these images? What do you notice about the type of words that it finds for each image? Why do you think this is happening?**\n",
    "\n",
    "**b) Why do you think it would be unfair to compare these two images using Google's system?**\n",
    "<br/>\n",
    "<div class=\"alert alert-info\">\n",
    "Please enter your answer in the following box.\n",
    "</div>"
   ]
  },
  {
   "cell_type": "markdown",
   "metadata": {},
   "source": [
    "INSERT ANSWER HERE"
   ]
  },
  {
   "cell_type": "markdown",
   "metadata": {},
   "source": [
    "# 3. Finding Interest Point Operators\n",
    "\n",
    "Interest point operators can help us find points or features in the image that are unique and tell us something about the picture as a whole. These features are often found on the edges and corners of the image because these boundary points separate out the foreground, where interesting features are, from the lighter image background. We will be exploring a technique called MSER in this mini problem set to find high contrast regions of the image which represent edges, and sample features from those points.\n",
    "\n",
    "### a. Thresholding\n",
    "\n",
    "We will explore the concept of thresholding, which is the idea that a threshold is set between 0 and 255 (the values that a pixel can be) and all the pixels above that number are white and all those below the number are black. In the code below, the function MSER takes in a threshold value. Then the display image (a picture of a horse) is read as a numpy array with dimensions 128x128 with pixel values between 0 and 255. Your task is to fill in the code in the area specified so that pixel values below the threshold are 0, which means they are black and pixel values above the threshold are 255, which means they are white. Your final image should be called 'final' in order to be properly displayed. You can check yourself by ensuring that your pictures at threshold levels 80, 100 and 120 look like the following pictures respectively.\n",
    "\n",
    "<img src=\"80\" width=\"200\" height=\"200\"/>\n",
    "<img src=\"100\" width=\"200\" height=\"200\"/>\n",
    "<img src=\"120\" width=\"200\" height=\"200\"/>"
   ]
  },
  {
   "cell_type": "code",
   "execution_count": null,
   "metadata": {
    "collapsed": true
   },
   "outputs": [],
   "source": []
  },
  {
   "cell_type": "code",
   "execution_count": null,
   "metadata": {
    "collapsed": true
   },
   "outputs": [],
   "source": []
  },
  {
   "cell_type": "markdown",
   "metadata": {},
   "source": [
    "# 3. Traditional Image Classification"
   ]
  },
  {
   "cell_type": "markdown",
   "metadata": {},
   "source": [
    "We have defined a function for you to use to obtain the training data. This function iterates through every image file in the directory and SIFT runs on each image creating an array of feature vectors for each image. \n",
    "\n",
    "In the parent directory we have provided you with 2 folders containing images of auditoriums (labeled \"Auditorium\") and bowling alleys (labeled \"Bowling\"). \n",
    "\n",
    "The return_labels function takes in 5 inputs: \n",
    "\n",
    "* directoryList: list of directory labels\n",
    "* range_size: the size of the term vector for each image, typically (added_limt * 128) if feature vector is 128\n",
    "* added_limit: Given that not all images will not have the same number of interest points, we provide a smaller uniform number to consider. \n",
    "* count_limit: Desired number of interest points found in a single picture\n",
    "* patch_size: The size of a patch(size of a feature around an interest point in pixels) defaulted to 32\n",
    "\n",
    "\n",
    "Run the following cell to obtain the training data. You will find that return_labels does not work for high count_limits because  SIFT will not find enough feature points on an image."
   ]
  },
  {
   "cell_type": "code",
   "execution_count": 20,
   "metadata": {},
   "outputs": [
    {
     "name": "stdout",
     "output_type": "stream",
     "text": [
      "12\n",
      "('range: ', 1536)\n",
      "('count: ', 100)\n",
      "[[  6.   8.   2. ...  40. 125.  23.]\n",
      " [ 14.  15.  44. ...   9.   5.  38.]\n",
      " [  3.  18.  76. ...  41.  19.  14.]\n",
      " ...\n",
      " [  4.   5.   6. ...  10. 115.  78.]\n",
      " [  8.   8.   7. ...   1.   1.   2.]\n",
      " [ 24.  27.  33. ...  21.  28.  14.]]\n"
     ]
    }
   ],
   "source": [
    "count_limit = 12\n",
    "range_size =  count_limit*128\n",
    "sift_pictures = return_labels(['Bowling', 'Auditorium'], range_size, count_limit, 100)\n",
    "print(sift_pictures)"
   ]
  },
  {
   "cell_type": "markdown",
   "metadata": {},
   "source": [
    "Analyze the dimensions of the output array from return_labels while considering the input arguments and explain the format of the output that it provides? You may modify the code in the cell above to print the dimensions you are interested in. \n",
    "How would you split the data to process each feature independently?"
   ]
  },
  {
   "cell_type": "markdown",
   "metadata": {},
   "source": [
    "<div class=\"alert alert-info\">\n",
    "Please answer in the following cell.\n",
    "</div>"
   ]
  },
  {
   "cell_type": "markdown",
   "metadata": {},
   "source": [
    "INSERT ANSWER HERE"
   ]
  },
  {
   "cell_type": "markdown",
   "metadata": {},
   "source": [
    "Now that you have identified values to run return_labels and SIFT, what is the best values for range_size and count_limit to get the most accurate classification results. Run the following cell to find the clusters using K-Means clustering. "
   ]
  },
  {
   "cell_type": "code",
   "execution_count": 44,
   "metadata": {},
   "outputs": [
    {
     "name": "stdout",
     "output_type": "stream",
     "text": [
      "12\n",
      "('range: ', 1536)\n",
      "('count: ', 100)\n",
      "1536\n",
      "[[  6.   8.   2. ...  40. 125.  23.]\n",
      " [ 14.  15.  44. ...   9.   5.  38.]\n",
      " [  3.  18.  76. ...  41.  19.  14.]\n",
      " ...\n",
      " [  4.   5.   6. ...  10. 115.  78.]\n",
      " [  8.   8.   7. ...   1.   1.   2.]\n",
      " [ 24.  27.  33. ...  21.  28.  14.]]\n",
      "[0 0 1 0 1 1 1 1 1 0 0 0 0 1 0 1 0 0 0 1 0 0 1 0 0 0 1 0 1 1 0 1 0 1 0 0 0\n",
      " 0 1 0 1 0]\n",
      "42\n",
      "0.5\n"
     ]
    }
   ],
   "source": [
    "count_limit = 12\n",
    "range_size =  count_limit*128\n",
    "labels_list = ['Bowling', 'Auditorium']\n",
    "sift_pictures = return_labels(labels_list, range_size, count_limit, 100)\n",
    "print(len(sift_pictures[0]))\n",
    "kmeans = KMeans(n_clusters=2, random_state=1).fit(sift_pictures)\n",
    "print(sift_pictures)\n",
    "preds = kmeans.predict(sift_pictures)\n",
    "print(preds)\n",
    "print(len(preds))\n",
    "print(kmeans_accuracy(preds, labels_list))\n"
   ]
  },
  {
   "cell_type": "markdown",
   "metadata": {},
   "source": [
    "Why do the values you found end up being the best values to run SIFT? How can you increase the accuracy? Comment on the accuracies you see, is this a good image classifier?"
   ]
  },
  {
   "cell_type": "markdown",
   "metadata": {},
   "source": [
    "<div class=\"alert alert-info\">\n",
    "Please answer in the following cell.\n",
    "</div>"
   ]
  },
  {
   "cell_type": "markdown",
   "metadata": {},
   "source": [
    "INSERT ANSWER HERE"
   ]
  },
  {
   "cell_type": "markdown",
   "metadata": {},
   "source": [
    "# 4. Bag of Features: Processing Training Data"
   ]
  },
  {
   "cell_type": "markdown",
   "metadata": {},
   "source": [
    "Above, we performed image classification by considering the entire picture as a single vector, including all of the features. Now we will implement Bag Of Features. \n",
    "\n"
   ]
  },
  {
   "cell_type": "markdown",
   "metadata": {},
   "source": [
    "First we want to get a set of all of the features from all of the pictures to build a vocabulary. \n",
    "Implement the function below:"
   ]
  },
  {
   "cell_type": "code",
   "execution_count": 26,
   "metadata": {
    "collapsed": true
   },
   "outputs": [],
   "source": [
    "def extract_feature_set(sift_pictures):\n",
    "    '''\n",
    "    sift_pictures - data structure studied above that includes all features from all pictures\n",
    "    \n",
    "    return set of 128 length features from all pictures\n",
    "    \n",
    "    '''\n",
    "    # separate sift_pictures into individual pictures. \n",
    "    # for each picture, separate its descriptor into individual features (remember features are length 128).\n",
    "    # add the individual features to the output set.\n",
    "    out = []\n",
    "    for i in range(len(sift_pictures)):\n",
    "        curr_pic = sift_pictures[i]\n",
    "        parts = np.hsplit(curr_pic, 128)\n",
    "        out.append(parts)\n",
    "    return np.vstack(out)"
   ]
  },
  {
   "cell_type": "markdown",
   "metadata": {},
   "source": [
    "Next you will use the feature set to build the vocabulary. HINT: use the K-Means functions from the sklearrn library. You may find it useful to reference the code in section TODO."
   ]
  },
  {
   "cell_type": "code",
   "execution_count": 23,
   "metadata": {
    "collapsed": true
   },
   "outputs": [],
   "source": [
    "def build_vocab(set_of_features, k):\n",
    "    '''\n",
    "    set_of_features - set of 128 length sift descriptors\n",
    "    k - number of terms in our vocabulary\n",
    "    \n",
    "    return an sklearn k-means classifier fitted to the feature set\n",
    "    '''\n",
    "    # use sklearn to create a k-means classifier that groups input into k clusters\n",
    "    # fit the classifier to the set of features\n",
    "    # output the classifier \n",
    "    clf = KMeans(n_clusters=k, random_state=1)\n",
    "    clf.fit(set_of_features)\n",
    "    return clf"
   ]
  },
  {
   "cell_type": "markdown",
   "metadata": {},
   "source": [
    "Now you will create a term vector for one of the training images. "
   ]
  },
  {
   "cell_type": "code",
   "execution_count": 32,
   "metadata": {
    "collapsed": true
   },
   "outputs": [],
   "source": [
    "def generate_term_vector(sift_picture, k, vocab_classifier):\n",
    "    '''\n",
    "    sift_picture - a single picture represented as a concatenation of all of its features\n",
    "    k - number of terms in our vocabulary\n",
    "    vocab_classifier - sklearn k-means classifier of vocab features\n",
    "    \n",
    "    return term vector - a list of feature counts from the input picture\n",
    "    '''\n",
    "    # intialize the term vector to be a length-k list of 0s, where k is the number of terms in the vocab\n",
    "    # separate picture into individual features\n",
    "    # for each feature:\n",
    "    #     use the kmeans classifier to classify the feature as one of the vocabulary items\n",
    "    #     increment the appropriate entry in the term vector each time a feature is found\n",
    "    # return the feature vector\n",
    "    tv = [0 for i in range(k)]\n",
    "    features = np.hsplit(sift_picture, 128)\n",
    "    for feature in features:\n",
    "        result = vocab_classifier.predict(feature.reshape(1,-1))\n",
    "        tv[int(result)] += 1\n",
    "    return tv"
   ]
  },
  {
   "cell_type": "markdown",
   "metadata": {},
   "source": [
    "Lastly, we will put all of these helper methods together to process the training data. We will give you an outline of how to do this, but feel free to implement it however you please."
   ]
  },
  {
   "cell_type": "code",
   "execution_count": 24,
   "metadata": {
    "collapsed": true
   },
   "outputs": [],
   "source": [
    "def process_training_data(count_limit, k):\n",
    "    '''\n",
    "    k - number of terms in our vocabulary\n",
    "    \n",
    "    returns (labeled_term_vectors, k, vocab_classifier)\n",
    "    \n",
    "            labeled_term_vectors: \n",
    "                list of tuples describing labels of known points; \n",
    "                   first element of each tuple is the term vector\n",
    "                   second element of each tuple is the label\n",
    "                   ex. [([...], 'label1'), ([...],'label2'),...]\n",
    "            vocab_classifier: sklearn k-means classifier of vocab features\n",
    "    '''\n",
    "    range_size = count_limit * 128\n",
    "    sift_pictures = return_labels(['Bowling', 'Auditorium'], range_size, count_limit, 100)\n",
    "    \n",
    "    # extract the feature set from all of the pictures\n",
    "    # build a vocabulary from the feature set, get a k-means classifier for feature vectors\n",
    "    features = extract_feature_set(sift_pictures)\n",
    "    #print(features)\n",
    "    clf = build_vocab(features, k)\n",
    "    labeled_term_vectors = []\n",
    "    # get the sift_pictures for the bowling alleys alone from return_labels\n",
    "    bowling_pictures = return_labels(['Bowling'], range_size, count_limit, 100)\n",
    "    # for each picture:\n",
    "    #     get its term vector\n",
    "    #     add it to labeled_term_vectors with the label 'Bowling'\n",
    "    \n",
    "    for pic in bowling_pictures:\n",
    "        labeled_term_vectors.append((generate_term_vector(pic, k, clf), 'Bowling'))\n",
    "    \n",
    "    # get the sift_pictures for the auditoriums alone from return_labels\n",
    "    auditorium_pictures = return_labels(['Auditorium'], range_size, count_limit, 100)\n",
    "    # for each picture:\n",
    "    #     get its term vector\n",
    "    #     add it to labeled_term_vectors with the label 'Auditorium'\n",
    "    for pic in bowling_pictures:\n",
    "        labeled_term_vectors.append((generate_term_vector(pic, k, clf), 'Auditorium'))\n",
    "    \n",
    "    return (labeled_term_vectors, clf)"
   ]
  },
  {
   "cell_type": "code",
   "execution_count": 35,
   "metadata": {},
   "outputs": [
    {
     "name": "stdout",
     "output_type": "stream",
     "text": [
      "12\n",
      "('range: ', 1536)\n",
      "('count: ', 100)\n",
      "12\n",
      "('range: ', 1536)\n",
      "('count: ', 100)\n",
      "12\n",
      "('range: ', 1536)\n",
      "('count: ', 100)\n",
      "([([16, 64, 14, 12, 22], 'Bowling'), ([24, 51, 18, 11, 24], 'Bowling'), ([29, 35, 19, 14, 31], 'Bowling'), ([28, 40, 17, 14, 29], 'Bowling'), ([21, 57, 10, 17, 23], 'Bowling'), ([22, 62, 22, 9, 13], 'Bowling'), ([34, 37, 14, 12, 31], 'Bowling'), ([19, 68, 15, 9, 17], 'Bowling'), ([38, 23, 18, 15, 34], 'Bowling'), ([27, 41, 20, 12, 28], 'Bowling'), ([26, 38, 21, 12, 31], 'Bowling'), ([28, 44, 18, 16, 22], 'Bowling'), ([21, 49, 20, 10, 28], 'Bowling'), ([36, 43, 18, 10, 21], 'Bowling'), ([35, 32, 20, 11, 30], 'Bowling'), ([19, 54, 17, 12, 26], 'Bowling'), ([24, 54, 16, 13, 21], 'Bowling'), ([35, 34, 14, 12, 33], 'Bowling'), ([27, 47, 18, 12, 24], 'Bowling'), ([26, 40, 19, 16, 27], 'Bowling'), ([26, 54, 22, 8, 18], 'Bowling'), ([15, 65, 14, 11, 23], 'Bowling'), ([28, 44, 15, 18, 23], 'Bowling'), ([26, 41, 11, 20, 30], 'Bowling'), ([16, 64, 14, 12, 22], 'Auditorium'), ([24, 51, 18, 11, 24], 'Auditorium'), ([29, 35, 19, 14, 31], 'Auditorium'), ([28, 40, 17, 14, 29], 'Auditorium'), ([21, 57, 10, 17, 23], 'Auditorium'), ([22, 62, 22, 9, 13], 'Auditorium'), ([34, 37, 14, 12, 31], 'Auditorium'), ([19, 68, 15, 9, 17], 'Auditorium'), ([38, 23, 18, 15, 34], 'Auditorium'), ([27, 41, 20, 12, 28], 'Auditorium'), ([26, 38, 21, 12, 31], 'Auditorium'), ([28, 44, 18, 16, 22], 'Auditorium'), ([21, 49, 20, 10, 28], 'Auditorium'), ([36, 43, 18, 10, 21], 'Auditorium'), ([35, 32, 20, 11, 30], 'Auditorium'), ([19, 54, 17, 12, 26], 'Auditorium'), ([24, 54, 16, 13, 21], 'Auditorium'), ([35, 34, 14, 12, 33], 'Auditorium'), ([27, 47, 18, 12, 24], 'Auditorium'), ([26, 40, 19, 16, 27], 'Auditorium'), ([26, 54, 22, 8, 18], 'Auditorium'), ([15, 65, 14, 11, 23], 'Auditorium'), ([28, 44, 15, 18, 23], 'Auditorium'), ([26, 41, 11, 20, 30], 'Auditorium')], KMeans(algorithm='auto', copy_x=True, init='k-means++', max_iter=300,\n",
      "    n_clusters=5, n_init=10, n_jobs=1, precompute_distances='auto',\n",
      "    random_state=1, tol=0.0001, verbose=0))\n"
     ]
    }
   ],
   "source": [
    "print(process_training_data(count_limit=12, k=5))"
   ]
  },
  {
   "cell_type": "code",
   "execution_count": 74,
   "metadata": {},
   "outputs": [
    {
     "name": "stdout",
     "output_type": "stream",
     "text": [
      "12\n",
      "('range: ', 1536)\n",
      "('count: ', 100)\n",
      "12\n",
      "('range: ', 1536)\n",
      "('count: ', 100)\n",
      "12\n",
      "('range: ', 1536)\n",
      "('count: ', 100)\n"
     ]
    },
    {
     "data": {
      "text/html": [
       "<div class=\"alert alert-success\">\n",
       "        <strong>Tests passed!!</strong>\n",
       "        </div>"
      ]
     },
     "metadata": {},
     "output_type": "display_data"
    }
   ],
   "source": [
    "test_process_training_data(process_training_data)\n",
    "test_ok()"
   ]
  },
  {
   "cell_type": "markdown",
   "metadata": {},
   "source": [
    "# 5. Bag of Features: Classifying New Images"
   ]
  },
  {
   "cell_type": "markdown",
   "metadata": {},
   "source": [
    "Having processed the training images, building a vocabulary and getting term vectors, we now want to be able to classify an unknown image. We can use the same functions as we developed in the previous section to convert a new image to a term vector, but then we need to figure out the classification of the new term vector.\n",
    "\n",
    "To do this, we will use the k-nearest-neighbors (KNN) algorithm. Given a set of labeled data (in this case term vectors corresponding to images) as \"examples\", the algorithm will classify a new datum based on the $k$ examples to which the unobserved datum is \"nearest\".\n",
    "\n",
    "There are many ways to define distance between one example and another, but one of the most straightforward and common approaches is to use Euclidean distance (or \"L2-norm\" if you want to be fancy).\n",
    "\n",
    "For this next part of the assignment, implement the KNN algorithm in the space provided. Then you will use this to classify some unknown images."
   ]
  },
  {
   "cell_type": "code",
   "execution_count": 56,
   "metadata": {
    "collapsed": true
   },
   "outputs": [],
   "source": [
    "def get_k_closest(point, known_points, k):\n",
    "    '''\n",
    "    point - unknown point (Numpy array of term vector)\n",
    "    \n",
    "    known_points - list of tuples describing labels of known points; \n",
    "                   first element of each tuple is the sift feature vector\n",
    "                   second element of each tuple is the corresponding label\n",
    "                   ex. [([...], 'label1'), ([...],'label2'),...]\n",
    "                   \n",
    "    k - an integer (corresponding to the number of neighbors to consider)\n",
    "    \n",
    "    Returns: the k tuples from known_points corresponding to the k closest points\n",
    "             to the unknown point (as a list)\n",
    "    '''\n",
    "    distances = np.zeros(len(known_points))\n",
    "    for i in range(len(known_points)):\n",
    "        dist = np.linalg.norm(np.array(point) - np.array(known_points[i][0]))\n",
    "        distances[i] = dist\n",
    "    indices = np.argsort(distances)[:k]\n",
    "    #print(np.sort(distances)[:k])\n",
    "    results = []\n",
    "    for i in range(len(indices)):\n",
    "        results.append(known_points[indices[i]])\n",
    "    #print(results)\n",
    "    return results"
   ]
  },
  {
   "cell_type": "code",
   "execution_count": 60,
   "metadata": {},
   "outputs": [
    {
     "name": "stdout",
     "output_type": "stream",
     "text": [
      "\n"
     ]
    }
   ],
   "source": [
    "def knn(known_points, unknown_points, k):\n",
    "    '''\n",
    "    known_points - list of tuples describing labels of known points; \n",
    "                   first element of each tuple is the sift feature vector\n",
    "                   second element of each tuple is the corresponding label\n",
    "                   ex. [([...], 'label1'), ([...],'label2'),...]\n",
    "                   \n",
    "    unknown_points - list of term vectors (Numpy arrays) corresponding to \n",
    "                    examples needing classification\n",
    "                    \n",
    "    k - an integer (corresponding to the number of neighbors to consider)\n",
    "    \n",
    "    Returns: list of tuples describing the assigned labels of previously unknown points\n",
    "             (in the same order as the input)\n",
    "    '''\n",
    "    results = []\n",
    "    for i in range(len(unknown_points)):\n",
    "        neighbors = get_k_closest(unknown_points[i], known_points, k)\n",
    "        #print(neighbors)\n",
    "        freqs = {}\n",
    "        for neighbor in neighbors:\n",
    "            label = neighbor[1]\n",
    "            if label not in freqs:\n",
    "                freqs[label] = 0\n",
    "            freqs[label] += 1\n",
    "        \n",
    "        max_label = -1\n",
    "        max_amt = -1\n",
    "        for label in freqs:\n",
    "            if freqs[label] > max_amt:\n",
    "                max_amt = freqs[label]\n",
    "                max_label = label\n",
    "        results.append((unknown_points[i], max_label))\n",
    "    return results"
   ]
  },
  {
   "cell_type": "code",
   "execution_count": 73,
   "metadata": {},
   "outputs": [
    {
     "name": "stdout",
     "output_type": "stream",
     "text": [
      "12\n",
      "('range: ', 1536)\n",
      "('count: ', 100)\n",
      "12\n",
      "('range: ', 1536)\n",
      "('count: ', 100)\n",
      "12\n",
      "('range: ', 1536)\n",
      "('count: ', 100)\n"
     ]
    },
    {
     "data": {
      "text/html": [
       "<div class=\"alert alert-success\">\n",
       "        <strong>Tests passed!!</strong>\n",
       "        </div>"
      ]
     },
     "metadata": {},
     "output_type": "display_data"
    }
   ],
   "source": [
    "test_process_training_data(process_training_data)\n",
    "test_ok()"
   ]
  },
  {
   "cell_type": "markdown",
   "metadata": {},
   "source": [
    "Now answer the following questions about your KNN implementation in the cell below.\n",
    "\n",
    "1. Why don't we want to use even numbers as values of $k$?\n",
    "2. How would you go about finding the best value of $k$?\n",
    "3. What was the best value of $k$ that worked for the data given above? (TODO: figure out data to give)"
   ]
  },
  {
   "cell_type": "markdown",
   "metadata": {},
   "source": [
    "<div class=\"alert alert-info\">\n",
    "Please enter your answer in the following box.\n",
    "</div>"
   ]
  },
  {
   "cell_type": "markdown",
   "metadata": {},
   "source": [
    "Now we will use this implementation to classify new images."
   ]
  },
  {
   "cell_type": "code",
   "execution_count": 58,
   "metadata": {
    "collapsed": true
   },
   "outputs": [],
   "source": [
    "def classify_new_images(k, count_limit):\n",
    "    '''\n",
    "    k: parameter defining the number of terms in the vocabulary\n",
    "    \n",
    "    return list of tuples describing the assigned labels of previously unknown images from the \"unknown\" directory\n",
    "    '''\n",
    "    range_size =  count_limit*128\n",
    "    known_pictures = return_labels(['Bowling', 'Auditorium'], range_size, count_limit, 100)\n",
    "    unknown_pictures = return_labels(['Unknown'], range_size, count_limit, 100)\n",
    "    \n",
    "    # process the training pictures to get a labeled list of term vectors and a vocab classifier\n",
    "    #    (use the function you implemented in 4)\n",
    "    \n",
    "    # create a list of term vectors of the unknown images:\n",
    "    # for each of the pictures in the unknown picture directory:\n",
    "    #     generate a term vector\n",
    "    #     add the term vector to the list of term vectors\n",
    "    \n",
    "    # use your knn implementation to label the list of unknown term vectors\n",
    "    \n",
    "    # return the labeled images\n",
    "    labeled_term_vectors, clf = process_training_data(count_limit, k)\n",
    "    #print(labeled_term_vectors)\n",
    "    unknown_term_vectors = []\n",
    "    for pic in unknown_pictures:\n",
    "        vec = generate_term_vector(pic, k, clf)\n",
    "        unknown_term_vectors.append(vec)\n",
    "    return knn(labeled_term_vectors, unknown_term_vectors, k)"
   ]
  },
  {
   "cell_type": "code",
   "execution_count": 72,
   "metadata": {},
   "outputs": [
    {
     "name": "stdout",
     "output_type": "stream",
     "text": [
      "10\n",
      "('range: ', 1280)\n",
      "('count: ', 100)\n",
      "10\n",
      "('range: ', 1280)\n",
      "('count: ', 100)\n",
      "10\n",
      "('range: ', 1280)\n",
      "('count: ', 100)\n",
      "10\n",
      "('range: ', 1280)\n",
      "('count: ', 100)\n",
      "10\n",
      "('range: ', 1280)\n",
      "('count: ', 100)\n"
     ]
    },
    {
     "data": {
      "text/html": [
       "<div class=\"alert alert-success\">\n",
       "        <strong>Tests passed!!</strong>\n",
       "        </div>"
      ]
     },
     "metadata": {},
     "output_type": "display_data"
    }
   ],
   "source": [
    "test_knn(classify_new_images)\n",
    "test_ok()"
   ]
  },
  {
   "cell_type": "markdown",
   "metadata": {},
   "source": [
    "Now you can test your bag of features implementation in the tester below. You can change the parameters k and count_limit to maximize your accuracy."
   ]
  },
  {
   "cell_type": "code",
   "execution_count": 67,
   "metadata": {},
   "outputs": [
    {
     "name": "stdout",
     "output_type": "stream",
     "text": [
      "10\n",
      "('range: ', 1280)\n",
      "('count: ', 100)\n",
      "10\n",
      "('range: ', 1280)\n",
      "('count: ', 100)\n",
      "10\n",
      "('range: ', 1280)\n",
      "('count: ', 100)\n",
      "10\n",
      "('range: ', 1280)\n",
      "('count: ', 100)\n",
      "10\n",
      "('range: ', 1280)\n",
      "('count: ', 100)\n",
      "[([13, 46, 9, 4, 8, 11, 11, 5, 12, 9], 'Auditorium'), ([9, 39, 7, 3, 12, 18, 17, 4, 9, 10], 'Bowling'), ([18, 35, 8, 9, 10, 14, 13, 3, 11, 7], 'Bowling'), ([10, 50, 8, 5, 7, 8, 13, 8, 13, 6], 'Auditorium'), ([14, 35, 14, 0, 13, 13, 11, 6, 15, 7], 'Bowling'), ([15, 32, 9, 5, 14, 13, 13, 6, 19, 2], 'Bowling'), ([15, 33, 10, 6, 14, 14, 12, 4, 16, 4], 'Bowling'), ([5, 40, 15, 6, 8, 14, 19, 8, 10, 3], 'Bowling'), ([17, 28, 17, 7, 7, 10, 19, 4, 18, 1], 'Bowling'), ([15, 52, 4, 3, 11, 10, 4, 8, 13, 8], 'Auditorium')]\n",
      "Accuracy:  [[[9, 39, 7, 3, 12, 18, 17, 4, 9, 10] 'Bowling']\n",
      " [[9, 39, 7, 3, 12, 18, 17, 4, 9, 10] 'Bowling']\n",
      " [[9, 39, 7, 3, 12, 18, 17, 4, 9, 10] 'Bowling']\n",
      " [[9, 39, 7, 3, 12, 18, 17, 4, 9, 10] 'Bowling']\n",
      " [[9, 39, 7, 3, 12, 18, 17, 4, 9, 10] 'Bowling']\n",
      " [[9, 39, 7, 3, 12, 18, 17, 4, 9, 10] 'Bowling']\n",
      " [[9, 39, 7, 3, 12, 18, 17, 4, 9, 10] 'Bowling']\n",
      " [[9, 39, 7, 3, 12, 18, 17, 4, 9, 10] 'Bowling']\n",
      " [[9, 39, 7, 3, 12, 18, 17, 4, 9, 10] 'Bowling']\n",
      " [[9, 39, 7, 3, 12, 18, 17, 4, 9, 10] 'Bowling']]\n",
      "0.0\n"
     ]
    }
   ],
   "source": [
    "k = 10\n",
    "count_limit = 10\n",
    "\n",
    "labeled_images = classify_new_images(k, count_limit)\n",
    "print(labeled_images)\n",
    "print \"Accuracy: \",  str(check_bof_accuracy(labeled_images))"
   ]
  },
  {
   "cell_type": "markdown",
   "metadata": {},
   "source": [
    "# 6. Improving Feature Detection\n",
    "\n",
    "Now that we have gone through the process of obtaining feature vectors for our training images and classifying test images against this data, we can begin to make adjustments for handling unstructured environments. As covered in the lecture, two useful extensions are the use of saliency and hue information.\n",
    "\n",
    "### a. Saliency\n",
    "Recall from the lecture that saliency is a measure of entropy used to determine how \"interesting\" a patch is. We can use this to select regions of images that are better for training. Recall that the entropy for a discrete random variable is given by\n",
    "\n",
    "$$E(\\Delta I)=H=-\\sum_{i=1}^{n}p(x_{i})\\log p(x_{i})$$\n",
    "\n",
    "For the gray scale image we define the probability $p(x)$ as follows,\n",
    "\n",
    "$$p(x_{i})={h(x_{i\\over N})={1\\over N}\\sum_{j=1}^{N}\\delta(x_{i}-x_{j})}$$\n",
    "\n",
    "where $\\delta$ is the discrete Dirac delta function:\n",
    "$$\\delta(x)=\\cases{1, x=0\\cr 0, x\\neq 0 } $$\n",
    "\n",
    "So finally the entropy of a patch with $N_p$ pixels will be:\n",
    "$$H_{g}=-{1\\over N_{p}}\\sum_{j=1}^{N_{p}}\\log p_{g}(x_{j}) $$\n",
    "It is important to note that we are calculating the log probability, $p_{g}$ using all the pixels in the image, but the outermost sum is just over the pixels in the patch.\n",
    "\n",
    "Implement the function below which returns the total entropy for a given patch. The parameter `log_probs` is a list of values which represents the log probability of each pixel based off the global distribution of pixels.\n",
    "\n",
    "<div class=\"alert alert-info\">\n",
    "Implement the method below.\n",
    "</div>"
   ]
  },
  {
   "cell_type": "code",
   "execution_count": 18,
   "metadata": {
    "collapsed": true
   },
   "outputs": [],
   "source": [
    "def get_patch_entropy(log_probs):\n",
    "    '''\n",
    "    log_probs - list of values which represents the log probability of each pixel\n",
    "    '''\n",
    "    \n",
    "    # YOUR CODE HERE\n",
    "    raise NotImplementedError"
   ]
  },
  {
   "cell_type": "code",
   "execution_count": 19,
   "metadata": {},
   "outputs": [
    {
     "ename": "NotImplementedError",
     "evalue": "",
     "output_type": "error",
     "traceback": [
      "\u001b[0;31m---------------------------------------------------------------------------\u001b[0m",
      "\u001b[0;31mNotImplementedError\u001b[0m                       Traceback (most recent call last)",
      "\u001b[0;32m<ipython-input-19-6790894a61b6>\u001b[0m in \u001b[0;36m<module>\u001b[0;34m()\u001b[0m\n\u001b[1;32m      2\u001b[0m     \u001b[0mtest_patch_entropy_solution\u001b[0m\u001b[0;34m(\u001b[0m\u001b[0mget_patch_entropy\u001b[0m\u001b[0;34m)\u001b[0m\u001b[0;34m\u001b[0m\u001b[0m\n\u001b[1;32m      3\u001b[0m     \u001b[0mtest_ok\u001b[0m\u001b[0;34m(\u001b[0m\u001b[0;34m)\u001b[0m\u001b[0;34m\u001b[0m\u001b[0m\n\u001b[0;32m----> 4\u001b[0;31m \u001b[0mtest_get_patch_entropy\u001b[0m\u001b[0;34m(\u001b[0m\u001b[0;34m)\u001b[0m\u001b[0;34m\u001b[0m\u001b[0m\n\u001b[0m",
      "\u001b[0;32m<ipython-input-19-6790894a61b6>\u001b[0m in \u001b[0;36mtest_get_patch_entropy\u001b[0;34m()\u001b[0m\n\u001b[1;32m      1\u001b[0m \u001b[0;32mdef\u001b[0m \u001b[0mtest_get_patch_entropy\u001b[0m\u001b[0;34m(\u001b[0m\u001b[0;34m)\u001b[0m\u001b[0;34m:\u001b[0m\u001b[0;34m\u001b[0m\u001b[0m\n\u001b[0;32m----> 2\u001b[0;31m     \u001b[0mtest_patch_entropy_solution\u001b[0m\u001b[0;34m(\u001b[0m\u001b[0mget_patch_entropy\u001b[0m\u001b[0;34m)\u001b[0m\u001b[0;34m\u001b[0m\u001b[0m\n\u001b[0m\u001b[1;32m      3\u001b[0m     \u001b[0mtest_ok\u001b[0m\u001b[0;34m(\u001b[0m\u001b[0;34m)\u001b[0m\u001b[0;34m\u001b[0m\u001b[0m\n\u001b[1;32m      4\u001b[0m \u001b[0mtest_get_patch_entropy\u001b[0m\u001b[0;34m(\u001b[0m\u001b[0;34m)\u001b[0m\u001b[0;34m\u001b[0m\u001b[0m\n",
      "\u001b[0;32m/home/michael/834-PSET/utils.py\u001b[0m in \u001b[0;36mtest_patch_entropy_solution\u001b[0;34m(get_patch_entropy)\u001b[0m\n\u001b[1;32m     23\u001b[0m \u001b[0;32mdef\u001b[0m \u001b[0mtest_patch_entropy_solution\u001b[0m\u001b[0;34m(\u001b[0m\u001b[0mget_patch_entropy\u001b[0m\u001b[0;34m)\u001b[0m\u001b[0;34m:\u001b[0m\u001b[0;34m\u001b[0m\u001b[0m\n\u001b[1;32m     24\u001b[0m     \u001b[0mtest_probs\u001b[0m \u001b[0;34m=\u001b[0m \u001b[0;34m[\u001b[0m\u001b[0;34m-\u001b[0m\u001b[0;36m.1\u001b[0m\u001b[0;34m,\u001b[0m \u001b[0;34m-\u001b[0m\u001b[0;36m0\u001b[0m\u001b[0;34m,\u001b[0m \u001b[0;34m-\u001b[0m\u001b[0;36m.5\u001b[0m\u001b[0;34m,\u001b[0m \u001b[0;34m-\u001b[0m\u001b[0;36m.4\u001b[0m\u001b[0;34m,\u001b[0m \u001b[0;34m-\u001b[0m\u001b[0;36m.3\u001b[0m\u001b[0;34m,\u001b[0m \u001b[0;34m-\u001b[0m\u001b[0;36m1\u001b[0m\u001b[0;34m,\u001b[0m \u001b[0;34m-\u001b[0m\u001b[0;36m0\u001b[0m\u001b[0;34m,\u001b[0m \u001b[0;34m-\u001b[0m\u001b[0;36m.5\u001b[0m\u001b[0;34m,\u001b[0m \u001b[0;34m-\u001b[0m\u001b[0;36m.7\u001b[0m\u001b[0;34m]\u001b[0m\u001b[0;34m\u001b[0m\u001b[0m\n\u001b[0;32m---> 25\u001b[0;31m     \u001b[0;32massert\u001b[0m \u001b[0mget_patch_entropy\u001b[0m\u001b[0;34m(\u001b[0m\u001b[0mtest_probs\u001b[0m\u001b[0;34m)\u001b[0m \u001b[0;34m-\u001b[0m \u001b[0;36m0.3888888888888889\u001b[0m \u001b[0;34m<\u001b[0m \u001b[0;36m0.0001\u001b[0m\u001b[0;34m,\u001b[0m \u001b[0;34m\"Total patch entropy is incorrect\"\u001b[0m\u001b[0;34m\u001b[0m\u001b[0m\n\u001b[0m\u001b[1;32m     26\u001b[0m     \u001b[0;32mreturn\u001b[0m \u001b[0mTrue\u001b[0m\u001b[0;34m\u001b[0m\u001b[0m\n\u001b[1;32m     27\u001b[0m \u001b[0;34m\u001b[0m\u001b[0m\n",
      "\u001b[0;32m<ipython-input-18-100f3db7b8e1>\u001b[0m in \u001b[0;36mget_patch_entropy\u001b[0;34m(log_probs)\u001b[0m\n\u001b[1;32m      5\u001b[0m \u001b[0;34m\u001b[0m\u001b[0m\n\u001b[1;32m      6\u001b[0m     \u001b[0;31m# YOUR CODE HERE\u001b[0m\u001b[0;34m\u001b[0m\u001b[0;34m\u001b[0m\u001b[0m\n\u001b[0;32m----> 7\u001b[0;31m     \u001b[0;32mraise\u001b[0m \u001b[0mNotImplementedError\u001b[0m\u001b[0;34m\u001b[0m\u001b[0m\n\u001b[0m",
      "\u001b[0;31mNotImplementedError\u001b[0m: "
     ]
    }
   ],
   "source": [
    "def test_get_patch_entropy():\n",
    "    test_patch_entropy_solution(get_patch_entropy)\n",
    "    test_ok()\n",
    "test_get_patch_entropy()"
   ]
  },
  {
   "cell_type": "markdown",
   "metadata": {},
   "source": [
    "### b. Hue Information\n",
    "As explained in the introduction, color is an important feature in correctly classifying unstructured environments such as coral. In order to incorporate this data into our training / features, we add the average hue of the patch to the feature vectors that are created using SIFT. The hue value can be visualized below, and is found by convering a pixel in RGB into the HSV color space.\n",
    "\n",
    "<img src=\"hue.png\" width=\"200\" height=\"200\"/>\n",
    "\n",
    "If we have a 128-dimension feature vector from SIFT representing a patch, then the new feature vector would be of dimension 129. However, a trick/hack that we can employ is to copy the hue value into the feature vector multiple times. By adding, say, 10 more features which each hold the hue data, we may be able to achieve higher classification accuracies.\n",
    "\n",
    "The graph below shows the change in classification accuracy as we change the number of times the hue feature has been added to the patch feature vector. The classification accuracy was found by classifying seaweed against sand.\n",
    "\n",
    "<img src=\"hue_graph.png\" width=\"500\" height=\"500\"/>\n",
    "\n",
    "Given these results, answer the following questions:\n",
    "\n",
    "**a) What do you notice about the effect of hue data on classifiction accuracy? Do you notice anything strange, or anything that was expected?**\n",
    "\n",
    "**b) Why do you think that hue was a good feature to include, especially with these data sets?**\n",
    "\n",
    "<div class=\"alert alert-info\">\n",
    "Please enter your answer in the following box.\n",
    "</div>"
   ]
  },
  {
   "cell_type": "markdown",
   "metadata": {},
   "source": [
    "PUT ANSWER HERE"
   ]
  },
  {
   "cell_type": "markdown",
   "metadata": {},
   "source": [
    "## Done!\n",
    "\n",
    "Congratulations, you've completed this problem set! Please save this notebook, validate it, and submit it."
   ]
  }
 ],
 "metadata": {
  "kernelspec": {
   "display_name": "Python 2",
   "language": "python",
   "name": "python2"
  },
  "language_info": {
   "codemirror_mode": {
    "name": "ipython",
    "version": 2
   },
   "file_extension": ".py",
   "mimetype": "text/x-python",
   "name": "python",
   "nbconvert_exporter": "python",
   "pygments_lexer": "ipython2",
   "version": "2.7.14"
  }
 },
 "nbformat": 4,
 "nbformat_minor": 2
}
